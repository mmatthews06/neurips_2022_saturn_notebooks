{
 "cells": [
  {
   "cell_type": "code",
   "execution_count": null,
   "id": "529df559",
   "metadata": {
    "_cell_guid": "b1076dfc-b9ad-4769-8c92-a6c4dae69d19",
    "_uuid": "8f2839f25d086af736a60e9eeb907d3b93b6e0e5",
    "papermill": {
     "duration": null,
     "end_time": null,
     "exception": false,
     "start_time": "2022-08-17T13:00:12.630415",
     "status": "running"
    },
    "tags": []
   },
   "outputs": [],
   "source": [
    "!pip install -q tables\n",
    "\n",
    "import numpy as np \n",
    "import pandas as pd\n",
    "import matplotlib.pyplot as plt\n",
    "import seaborn as sns\n",
    "\n",
    "\n",
    "import os\n",
    "for dirname, _, filenames in os.walk('/kaggle/input'):\n",
    "    for filename in filenames:\n",
    "        print(os.path.join(dirname, filename))\n",
    "        \n",
    "print(\"Done\")"
   ]
  },
  {
   "cell_type": "markdown",
   "id": "fa6fbc90",
   "metadata": {
    "papermill": {
     "duration": null,
     "end_time": null,
     "exception": null,
     "start_time": null,
     "status": "pending"
    },
    "tags": []
   },
   "source": [
    "# Constants"
   ]
  },
  {
   "cell_type": "code",
   "execution_count": null,
   "id": "ff75bc0e",
   "metadata": {
    "papermill": {
     "duration": null,
     "end_time": null,
     "exception": null,
     "start_time": null,
     "status": "pending"
    },
    "tags": []
   },
   "outputs": [],
   "source": [
    "INPUT_DIR = \"../input/open-problems-multimodal\"\n",
    "\n",
    "EVALUATION_DIR = os.path.join(INPUT_DIR, \"evaluation_ids.csv\")\n",
    "METADATA_DIR = os.path.join(INPUT_DIR, \"metadata.csv\")\n",
    "SUBMISSION_DIR = os.path.join(INPUT_DIR, \"sample_submission.csv\")\n",
    "\n",
    "MULTIOME_TRAIN_INPUTS = os.path.join(INPUT_DIR,\"train_multi_inputs.h5\")\n",
    "MULTIOME_TRAIN_TARGETS = os.path.join(INPUT_DIR,\"train_multi_targets.h5\")\n",
    "MULTIOME_TEST_INPUTS = os.path.join(INPUT_DIR,\"test_multi_inputs.h5\")\n",
    "CITE_TRAIN_INPUTS = os.path.join(INPUT_DIR,\"train_cite_inputs.h5\")\n",
    "CITE_TRAIN_TARGETS = os.path.join(INPUT_DIR,\"train_cite_targets.h5\")\n",
    "CITE_TEST_INPUTS = os.path.join(INPUT_DIR,\"test_cite_inputs.h5\")\n",
    "SUBMISSION_PATH = os.path.join(INPUT_DIR,\"sample_submission.csv\")\n",
    "EVALUATION_IDS = os.path.join(INPUT_DIR,\"evaluation_ids.csv\")\n",
    "\n",
    "START = int(1e4)\n",
    "STOP = START+10000\n",
    "\n",
    "ROW_ID = \"row_id\"\n",
    "TARGET = \"target\"\n",
    "GENE_ID_INT = \"gene_id_int\"\n",
    "GENE_ID = \"gene_id\"\n",
    "\n",
    "print(\"Done\")"
   ]
  },
  {
   "cell_type": "markdown",
   "id": "b84a74f6",
   "metadata": {
    "papermill": {
     "duration": null,
     "end_time": null,
     "exception": null,
     "start_time": null,
     "status": "pending"
    },
    "tags": []
   },
   "source": [
    "# Functions "
   ]
  },
  {
   "cell_type": "code",
   "execution_count": null,
   "id": "78d28cdd",
   "metadata": {
    "papermill": {
     "duration": null,
     "end_time": null,
     "exception": null,
     "start_time": null,
     "status": "pending"
    },
    "tags": []
   },
   "outputs": [],
   "source": [
    "def data_description(df):\n",
    "    print(\"Data description\")\n",
    "    print(f\"Total number of records {df.shape[0]}\")\n",
    "    print(f'number of features {df.shape[1]}\\n\\n')\n",
    "    columns = df.columns\n",
    "    data_type = []\n",
    "    \n",
    "    # Get the datatype of features\n",
    "    for col in df.columns:\n",
    "        data_type.append(df[col].dtype)\n",
    "        \n",
    "    n_uni = df.nunique()\n",
    "    # Number of NaN values\n",
    "    n_miss = df.isna().sum()\n",
    "    \n",
    "    names = list(zip(columns, data_type, n_uni, n_miss))\n",
    "    variable_desc = pd.DataFrame(names, columns=[\"Name\",\"Type\",\"Unique levels\",\"Missing\"])\n",
    "    print(variable_desc)"
   ]
  },
  {
   "cell_type": "code",
   "execution_count": null,
   "id": "95f588b2",
   "metadata": {
    "papermill": {
     "duration": null,
     "end_time": null,
     "exception": null,
     "start_time": null,
     "status": "pending"
    },
    "tags": []
   },
   "outputs": [],
   "source": [
    "def transform_df(df, column, int_col, drop_col):\n",
    "    df = pd.DataFrame(df, columns = [column]).reset_index()\n",
    "    df[int_col] = df[drop_col].apply(lambda x: int(x.replace(\"-\",\"\").replace(\".\",\"\")[-8:],34)).astype(int)\n",
    "    df.drop([drop_col], axis = 1, inplace = True)\n",
    "    return df"
   ]
  },
  {
   "cell_type": "markdown",
   "id": "aa94be2d",
   "metadata": {
    "papermill": {
     "duration": null,
     "end_time": null,
     "exception": null,
     "start_time": null,
     "status": "pending"
    },
    "tags": []
   },
   "source": [
    "# Data preparation"
   ]
  },
  {
   "cell_type": "code",
   "execution_count": null,
   "id": "c93d1700",
   "metadata": {
    "papermill": {
     "duration": null,
     "end_time": null,
     "exception": null,
     "start_time": null,
     "status": "pending"
    },
    "tags": []
   },
   "outputs": [],
   "source": [
    "train_cite_targ = pd.read_hdf(CITE_TRAIN_TARGETS)\n",
    "metadata = pd.read_csv(METADATA_DIR)\n",
    "\n",
    "train_multi_targ = pd.read_hdf(MULTIOME_TRAIN_TARGETS, start=START, stop=STOP)\n",
    "print(\"Done\")"
   ]
  },
  {
   "cell_type": "code",
   "execution_count": null,
   "id": "8348a528",
   "metadata": {
    "papermill": {
     "duration": null,
     "end_time": null,
     "exception": null,
     "start_time": null,
     "status": "pending"
    },
    "tags": []
   },
   "outputs": [],
   "source": [
    "metadata.head()"
   ]
  },
  {
   "cell_type": "code",
   "execution_count": null,
   "id": "f75ea0a8",
   "metadata": {
    "papermill": {
     "duration": null,
     "end_time": null,
     "exception": null,
     "start_time": null,
     "status": "pending"
    },
    "tags": []
   },
   "outputs": [],
   "source": [
    "train_cite_targ.head()"
   ]
  },
  {
   "cell_type": "code",
   "execution_count": null,
   "id": "c4f5b967",
   "metadata": {
    "papermill": {
     "duration": null,
     "end_time": null,
     "exception": null,
     "start_time": null,
     "status": "pending"
    },
    "tags": []
   },
   "outputs": [],
   "source": [
    "data_description(train_cite_targ)\n",
    "print(\"Done\")"
   ]
  },
  {
   "cell_type": "code",
   "execution_count": null,
   "id": "360a4445",
   "metadata": {
    "papermill": {
     "duration": null,
     "end_time": null,
     "exception": null,
     "start_time": null,
     "status": "pending"
    },
    "tags": []
   },
   "outputs": [],
   "source": [
    "train_multi_targ.head()"
   ]
  },
  {
   "cell_type": "code",
   "execution_count": null,
   "id": "9bb85df7",
   "metadata": {
    "papermill": {
     "duration": null,
     "end_time": null,
     "exception": null,
     "start_time": null,
     "status": "pending"
    },
    "tags": []
   },
   "outputs": [],
   "source": [
    "data_description(train_multi_targ)"
   ]
  },
  {
   "cell_type": "code",
   "execution_count": null,
   "id": "549904d9",
   "metadata": {
    "papermill": {
     "duration": null,
     "end_time": null,
     "exception": null,
     "start_time": null,
     "status": "pending"
    },
    "tags": []
   },
   "outputs": [],
   "source": [
    "multi_gene_id_mean = train_multi_targ.mean()\n",
    "multi_gene_id_mean\n"
   ]
  },
  {
   "cell_type": "code",
   "execution_count": null,
   "id": "8e3c4f76",
   "metadata": {
    "papermill": {
     "duration": null,
     "end_time": null,
     "exception": null,
     "start_time": null,
     "status": "pending"
    },
    "tags": []
   },
   "outputs": [],
   "source": [
    "cite_gene_id_mean = train_cite_targ.mean()\n",
    "cite_gene_id_mean"
   ]
  },
  {
   "cell_type": "code",
   "execution_count": null,
   "id": "ffab8ecb",
   "metadata": {
    "papermill": {
     "duration": null,
     "end_time": null,
     "exception": null,
     "start_time": null,
     "status": "pending"
    },
    "tags": []
   },
   "outputs": [],
   "source": [
    "cite_gene_id_mean.index"
   ]
  },
  {
   "cell_type": "code",
   "execution_count": null,
   "id": "b603cf7b",
   "metadata": {
    "papermill": {
     "duration": null,
     "end_time": null,
     "exception": null,
     "start_time": null,
     "status": "pending"
    },
    "tags": []
   },
   "outputs": [],
   "source": [
    "multi_gene_id_mean.index"
   ]
  },
  {
   "cell_type": "code",
   "execution_count": null,
   "id": "c78bcd86",
   "metadata": {
    "papermill": {
     "duration": null,
     "end_time": null,
     "exception": null,
     "start_time": null,
     "status": "pending"
    },
    "tags": []
   },
   "outputs": [],
   "source": [
    "gene_id_mean = list(cite_gene_id_mean.index) + list(multi_gene_id_mean.index)\n",
    "gene_id = pd.DataFrame(gene_id_mean, columns = [GENE_ID])\n",
    "gene_id.head()"
   ]
  },
  {
   "cell_type": "code",
   "execution_count": null,
   "id": "7d884f3e",
   "metadata": {
    "papermill": {
     "duration": null,
     "end_time": null,
     "exception": null,
     "start_time": null,
     "status": "pending"
    },
    "tags": []
   },
   "outputs": [],
   "source": [
    "gene_id[GENE_ID_INT] = gene_id[GENE_ID].apply(lambda x : int(x.replace(\"-\", \"\").replace(\".\",\"\")[-8:], 34)).astype(int)\n",
    "gene_id.head()"
   ]
  },
  {
   "cell_type": "code",
   "execution_count": null,
   "id": "febe0f13",
   "metadata": {
    "papermill": {
     "duration": null,
     "end_time": null,
     "exception": null,
     "start_time": null,
     "status": "pending"
    },
    "tags": []
   },
   "outputs": [],
   "source": [
    "data_description(gene_id)"
   ]
  },
  {
   "cell_type": "markdown",
   "id": "1ea8cec4",
   "metadata": {
    "papermill": {
     "duration": null,
     "end_time": null,
     "exception": null,
     "start_time": null,
     "status": "pending"
    },
    "tags": []
   },
   "source": [
    "# Submission"
   ]
  },
  {
   "cell_type": "code",
   "execution_count": null,
   "id": "0cd5f61a",
   "metadata": {
    "papermill": {
     "duration": null,
     "end_time": null,
     "exception": null,
     "start_time": null,
     "status": "pending"
    },
    "tags": []
   },
   "outputs": [],
   "source": [
    "submission = pd.read_csv(SUBMISSION_PATH, usecols = [ROW_ID])\n",
    "data_description(submission)"
   ]
  },
  {
   "cell_type": "code",
   "execution_count": null,
   "id": "890f342d",
   "metadata": {
    "papermill": {
     "duration": null,
     "end_time": null,
     "exception": null,
     "start_time": null,
     "status": "pending"
    },
    "tags": []
   },
   "outputs": [],
   "source": [
    "evaluation = pd.read_csv(EVALUATION_IDS, usecols=[ROW_ID, GENE_ID])\n",
    "evaluation[GENE_ID_INT] = evaluation[GENE_ID].apply(lambda x: int(x.replace('-', '').replace('.', '')[-8:],34)).astype(int)\n",
    "evaluation.drop([GENE_ID], axis=1, inplace=True)\n",
    "data_description(evaluation)"
   ]
  },
  {
   "cell_type": "code",
   "execution_count": null,
   "id": "3c6764c6",
   "metadata": {
    "papermill": {
     "duration": null,
     "end_time": null,
     "exception": null,
     "start_time": null,
     "status": "pending"
    },
    "tags": []
   },
   "outputs": [],
   "source": [
    "evaluation.head()"
   ]
  },
  {
   "cell_type": "code",
   "execution_count": null,
   "id": "07d6f71d",
   "metadata": {
    "papermill": {
     "duration": null,
     "end_time": null,
     "exception": null,
     "start_time": null,
     "status": "pending"
    },
    "tags": []
   },
   "outputs": [],
   "source": [
    "submission = submission.merge(evaluation, how = \"left\", on = ROW_ID)\n",
    "data_description(submission)"
   ]
  },
  {
   "cell_type": "code",
   "execution_count": null,
   "id": "9d309628",
   "metadata": {
    "papermill": {
     "duration": null,
     "end_time": null,
     "exception": null,
     "start_time": null,
     "status": "pending"
    },
    "tags": []
   },
   "outputs": [],
   "source": [
    "cite_gene_id_mean = transform_df(cite_gene_id_mean, TARGET, GENE_ID_INT, GENE_ID)\n",
    "cite_gene_id_mean.head()"
   ]
  },
  {
   "cell_type": "code",
   "execution_count": null,
   "id": "b59a4e5e",
   "metadata": {
    "papermill": {
     "duration": null,
     "end_time": null,
     "exception": null,
     "start_time": null,
     "status": "pending"
    },
    "tags": []
   },
   "outputs": [],
   "source": [
    "multi_gene_id_mean = transform_df(multi_gene_id_mean, TARGET, GENE_ID_INT, GENE_ID)\n",
    "multi_gene_id_mean.head()"
   ]
  },
  {
   "cell_type": "code",
   "execution_count": null,
   "id": "74545021",
   "metadata": {
    "papermill": {
     "duration": null,
     "end_time": null,
     "exception": null,
     "start_time": null,
     "status": "pending"
    },
    "tags": []
   },
   "outputs": [],
   "source": [
    "completed_gene_id_mean = pd.concat([cite_gene_id_mean, multi_gene_id_mean])\n",
    "data_description(completed_gene_id_mean)"
   ]
  },
  {
   "cell_type": "code",
   "execution_count": null,
   "id": "5270c66a",
   "metadata": {
    "papermill": {
     "duration": null,
     "end_time": null,
     "exception": null,
     "start_time": null,
     "status": "pending"
    },
    "tags": []
   },
   "outputs": [],
   "source": [
    "submission = submission.merge(completed_gene_id_mean, how = \"left\", on = GENE_ID_INT)\n",
    "data_description(submission)"
   ]
  },
  {
   "cell_type": "code",
   "execution_count": null,
   "id": "fbaeab99-6d2f-41a9-9c66-ca4d1ac859ad",
   "metadata": {
    "tags": []
   },
   "outputs": [],
   "source": [
    "submission"
   ]
  },
  {
   "cell_type": "code",
   "execution_count": null,
   "id": "6172fc00",
   "metadata": {
    "papermill": {
     "duration": null,
     "end_time": null,
     "exception": null,
     "start_time": null,
     "status": "pending"
    },
    "tags": []
   },
   "outputs": [],
   "source": [
    "submission[[ROW_ID, TARGET]].to_csv('submission.csv', index=False)"
   ]
  }
 ],
 "metadata": {
  "kernelspec": {
   "display_name": "saturn (Python 3)",
   "language": "python",
   "name": "python3"
  },
  "language_info": {
   "codemirror_mode": {
    "name": "ipython",
    "version": 3
   },
   "file_extension": ".py",
   "mimetype": "text/x-python",
   "name": "python",
   "nbconvert_exporter": "python",
   "pygments_lexer": "ipython3",
   "version": "3.9.12"
  },
  "papermill": {
   "default_parameters": {},
   "duration": null,
   "end_time": null,
   "environment_variables": {},
   "exception": null,
   "input_path": "__notebook__.ipynb",
   "output_path": "__notebook__.ipynb",
   "parameters": {},
   "start_time": "2022-08-17T13:00:00.780551",
   "version": "2.3.4"
  }
 },
 "nbformat": 4,
 "nbformat_minor": 5
}
