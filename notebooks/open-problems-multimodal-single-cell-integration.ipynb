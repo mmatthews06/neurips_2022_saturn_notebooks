{
 "cells": [
  {
   "cell_type": "code",
   "execution_count": null,
   "id": "529df559",
   "metadata": {
    "_cell_guid": "b1076dfc-b9ad-4769-8c92-a6c4dae69d19",
    "_uuid": "8f2839f25d086af736a60e9eeb907d3b93b6e0e5",
    "execution": {
     "iopub.execute_input": "2022-08-17T12:02:18.551107Z",
     "iopub.status.busy": "2022-08-17T12:02:18.549763Z",
     "iopub.status.idle": "2022-08-17T12:02:31.198139Z",
     "shell.execute_reply": "2022-08-17T12:02:31.196339Z",
     "shell.execute_reply.started": "2022-08-17T12:02:18.551061Z"
    },
    "papermill": {
     "duration": null,
     "end_time": null,
     "exception": false,
     "start_time": "2022-08-17T13:00:12.630415",
     "status": "running"
    },
    "tags": []
   },
   "outputs": [],
   "source": [
    "!pip install -q tables\n",
    "\n",
    "import numpy as np \n",
    "import pandas as pd\n",
    "import matplotlib.pyplot as plt\n",
    "import seaborn as sns\n",
    "\n",
    "\n",
    "import os\n",
    "for dirname, _, filenames in os.walk('/kaggle/input'):\n",
    "    for filename in filenames:\n",
    "        print(os.path.join(dirname, filename))\n",
    "        \n",
    "print(\"Done\")"
   ]
  },
  {
   "cell_type": "markdown",
   "id": "fa6fbc90",
   "metadata": {
    "papermill": {
     "duration": null,
     "end_time": null,
     "exception": null,
     "start_time": null,
     "status": "pending"
    },
    "tags": []
   },
   "source": [
    "# Constants"
   ]
  },
  {
   "cell_type": "code",
   "execution_count": null,
   "id": "ff75bc0e",
   "metadata": {
    "execution": {
     "iopub.execute_input": "2022-08-17T12:02:31.202866Z",
     "iopub.status.busy": "2022-08-17T12:02:31.202440Z",
     "iopub.status.idle": "2022-08-17T12:02:31.216962Z",
     "shell.execute_reply": "2022-08-17T12:02:31.215577Z",
     "shell.execute_reply.started": "2022-08-17T12:02:31.202830Z"
    },
    "papermill": {
     "duration": null,
     "end_time": null,
     "exception": null,
     "start_time": null,
     "status": "pending"
    },
    "tags": []
   },
   "outputs": [],
   "source": [
    "INPUT_DIR = \"../input/open-problems-multimodal\"\n",
    "\n",
    "EVALUATION_DIR = os.path.join(INPUT_DIR, \"evaluation_ids.csv\")\n",
    "METADATA_DIR = os.path.join(INPUT_DIR, \"metadata.csv\")\n",
    "SUBMISSION_DIR = os.path.join(INPUT_DIR, \"sample_submission.csv\")\n",
    "\n",
    "MULTIOME_TRAIN_INPUTS = os.path.join(INPUT_DIR,\"train_multi_inputs.h5\")\n",
    "MULTIOME_TRAIN_TARGETS = os.path.join(INPUT_DIR,\"train_multi_targets.h5\")\n",
    "MULTIOME_TEST_INPUTS = os.path.join(INPUT_DIR,\"test_multi_inputs.h5\")\n",
    "CITE_TRAIN_INPUTS = os.path.join(INPUT_DIR,\"train_cite_inputs.h5\")\n",
    "CITE_TRAIN_TARGETS = os.path.join(INPUT_DIR,\"train_cite_targets.h5\")\n",
    "CITE_TEST_INPUTS = os.path.join(INPUT_DIR,\"test_cite_inputs.h5\")\n",
    "SUBMISSION_PATH = os.path.join(INPUT_DIR,\"sample_submission.csv\")\n",
    "EVALUATION_IDS = os.path.join(INPUT_DIR,\"evaluation_ids.csv\")\n",
    "\n",
    "START = int(1e4)\n",
    "STOP = START+10000\n",
    "\n",
    "ROW_ID = \"row_id\"\n",
    "TARGET = \"target\"\n",
    "GENE_ID_INT = \"gene_id_int\"\n",
    "GENE_ID = \"gene_id\"\n",
    "\n",
    "print(\"Done\")"
   ]
  },
  {
   "cell_type": "markdown",
   "id": "b84a74f6",
   "metadata": {
    "papermill": {
     "duration": null,
     "end_time": null,
     "exception": null,
     "start_time": null,
     "status": "pending"
    },
    "tags": []
   },
   "source": [
    "# Functions "
   ]
  },
  {
   "cell_type": "code",
   "execution_count": null,
   "id": "78d28cdd",
   "metadata": {
    "execution": {
     "iopub.execute_input": "2022-08-17T12:02:31.220386Z",
     "iopub.status.busy": "2022-08-17T12:02:31.219806Z",
     "iopub.status.idle": "2022-08-17T12:02:31.231317Z",
     "shell.execute_reply": "2022-08-17T12:02:31.230301Z",
     "shell.execute_reply.started": "2022-08-17T12:02:31.220314Z"
    },
    "papermill": {
     "duration": null,
     "end_time": null,
     "exception": null,
     "start_time": null,
     "status": "pending"
    },
    "tags": []
   },
   "outputs": [],
   "source": [
    "def data_description(df):\n",
    "    print(\"Data description\")\n",
    "    print(f\"Total number of records {df.shape[0]}\")\n",
    "    print(f'number of features {df.shape[1]}\\n\\n')\n",
    "    columns = df.columns\n",
    "    data_type = []\n",
    "    \n",
    "    # Get the datatype of features\n",
    "    for col in df.columns:\n",
    "        data_type.append(df[col].dtype)\n",
    "        \n",
    "    n_uni = df.nunique()\n",
    "    # Number of NaN values\n",
    "    n_miss = df.isna().sum()\n",
    "    \n",
    "    names = list(zip(columns, data_type, n_uni, n_miss))\n",
    "    variable_desc = pd.DataFrame(names, columns=[\"Name\",\"Type\",\"Unique levels\",\"Missing\"])\n",
    "    print(variable_desc)"
   ]
  },
  {
   "cell_type": "code",
   "execution_count": null,
   "id": "95f588b2",
   "metadata": {
    "execution": {
     "iopub.execute_input": "2022-08-17T12:02:31.235872Z",
     "iopub.status.busy": "2022-08-17T12:02:31.235443Z",
     "iopub.status.idle": "2022-08-17T12:02:31.245526Z",
     "shell.execute_reply": "2022-08-17T12:02:31.244020Z",
     "shell.execute_reply.started": "2022-08-17T12:02:31.235837Z"
    },
    "papermill": {
     "duration": null,
     "end_time": null,
     "exception": null,
     "start_time": null,
     "status": "pending"
    },
    "tags": []
   },
   "outputs": [],
   "source": [
    "def transform_df(df, column, int_col, drop_col):\n",
    "    df = pd.DataFrame(df, columns = [column]).reset_index()\n",
    "    df[int_col] = df[drop_col].apply(lambda x: int(x.replace(\"-\",\"\").replace(\".\",\"\")[-8:],34)).astype(int)\n",
    "    df.drop([drop_col], axis = 1, inplace = True)\n",
    "    return df"
   ]
  },
  {
   "cell_type": "markdown",
   "id": "aa94be2d",
   "metadata": {
    "papermill": {
     "duration": null,
     "end_time": null,
     "exception": null,
     "start_time": null,
     "status": "pending"
    },
    "tags": []
   },
   "source": [
    "# Data preparation"
   ]
  },
  {
   "cell_type": "code",
   "execution_count": null,
   "id": "c93d1700",
   "metadata": {
    "execution": {
     "iopub.execute_input": "2022-08-17T12:54:40.940410Z",
     "iopub.status.busy": "2022-08-17T12:54:40.939934Z",
     "iopub.status.idle": "2022-08-17T12:54:49.042968Z",
     "shell.execute_reply": "2022-08-17T12:54:49.041520Z",
     "shell.execute_reply.started": "2022-08-17T12:54:40.940369Z"
    },
    "papermill": {
     "duration": null,
     "end_time": null,
     "exception": null,
     "start_time": null,
     "status": "pending"
    },
    "tags": []
   },
   "outputs": [],
   "source": [
    "train_cite_targ = pd.read_hdf(CITE_TRAIN_TARGETS)\n",
    "metadata = pd.read_csv(METADATA_DIR)\n",
    "\n",
    "train_multi_targ = pd.read_hdf(MULTIOME_TRAIN_TARGETS, start=START, stop=STOP)\n",
    "print(\"Done\")"
   ]
  },
  {
   "cell_type": "code",
   "execution_count": null,
   "id": "8348a528",
   "metadata": {
    "execution": {
     "iopub.execute_input": "2022-08-17T12:55:29.512854Z",
     "iopub.status.busy": "2022-08-17T12:55:29.512333Z",
     "iopub.status.idle": "2022-08-17T12:55:29.526945Z",
     "shell.execute_reply": "2022-08-17T12:55:29.525647Z",
     "shell.execute_reply.started": "2022-08-17T12:55:29.512815Z"
    },
    "papermill": {
     "duration": null,
     "end_time": null,
     "exception": null,
     "start_time": null,
     "status": "pending"
    },
    "tags": []
   },
   "outputs": [],
   "source": [
    "metadata.head()"
   ]
  },
  {
   "cell_type": "code",
   "execution_count": null,
   "id": "f75ea0a8",
   "metadata": {
    "execution": {
     "iopub.execute_input": "2022-08-17T12:45:00.779091Z",
     "iopub.status.busy": "2022-08-17T12:45:00.778535Z",
     "iopub.status.idle": "2022-08-17T12:45:00.814025Z",
     "shell.execute_reply": "2022-08-17T12:45:00.812584Z",
     "shell.execute_reply.started": "2022-08-17T12:45:00.779008Z"
    },
    "papermill": {
     "duration": null,
     "end_time": null,
     "exception": null,
     "start_time": null,
     "status": "pending"
    },
    "tags": []
   },
   "outputs": [],
   "source": [
    "train_cite_targ.head()"
   ]
  },
  {
   "cell_type": "code",
   "execution_count": null,
   "id": "c4f5b967",
   "metadata": {
    "execution": {
     "iopub.execute_input": "2022-08-17T12:02:38.656856Z",
     "iopub.status.busy": "2022-08-17T12:02:38.656329Z",
     "iopub.status.idle": "2022-08-17T12:02:39.139721Z",
     "shell.execute_reply": "2022-08-17T12:02:39.138421Z",
     "shell.execute_reply.started": "2022-08-17T12:02:38.656807Z"
    },
    "papermill": {
     "duration": null,
     "end_time": null,
     "exception": null,
     "start_time": null,
     "status": "pending"
    },
    "tags": []
   },
   "outputs": [],
   "source": [
    "data_description(train_cite_targ)\n",
    "print(\"Done\")"
   ]
  },
  {
   "cell_type": "code",
   "execution_count": null,
   "id": "360a4445",
   "metadata": {
    "execution": {
     "iopub.execute_input": "2022-08-17T12:02:39.142131Z",
     "iopub.status.busy": "2022-08-17T12:02:39.141326Z",
     "iopub.status.idle": "2022-08-17T12:02:39.180424Z",
     "shell.execute_reply": "2022-08-17T12:02:39.179118Z",
     "shell.execute_reply.started": "2022-08-17T12:02:39.142084Z"
    },
    "papermill": {
     "duration": null,
     "end_time": null,
     "exception": null,
     "start_time": null,
     "status": "pending"
    },
    "tags": []
   },
   "outputs": [],
   "source": [
    "train_multi_targ.head()"
   ]
  },
  {
   "cell_type": "code",
   "execution_count": null,
   "id": "9bb85df7",
   "metadata": {
    "execution": {
     "iopub.execute_input": "2022-08-17T12:02:39.182583Z",
     "iopub.status.busy": "2022-08-17T12:02:39.182201Z",
     "iopub.status.idle": "2022-08-17T12:02:46.301685Z",
     "shell.execute_reply": "2022-08-17T12:02:46.300445Z",
     "shell.execute_reply.started": "2022-08-17T12:02:39.182550Z"
    },
    "papermill": {
     "duration": null,
     "end_time": null,
     "exception": null,
     "start_time": null,
     "status": "pending"
    },
    "tags": []
   },
   "outputs": [],
   "source": [
    "data_description(train_multi_targ)"
   ]
  },
  {
   "cell_type": "code",
   "execution_count": null,
   "id": "549904d9",
   "metadata": {
    "execution": {
     "iopub.execute_input": "2022-08-17T12:02:46.303414Z",
     "iopub.status.busy": "2022-08-17T12:02:46.303029Z",
     "iopub.status.idle": "2022-08-17T12:02:46.881801Z",
     "shell.execute_reply": "2022-08-17T12:02:46.880427Z",
     "shell.execute_reply.started": "2022-08-17T12:02:46.303379Z"
    },
    "papermill": {
     "duration": null,
     "end_time": null,
     "exception": null,
     "start_time": null,
     "status": "pending"
    },
    "tags": []
   },
   "outputs": [],
   "source": [
    "multi_gene_id_mean = train_multi_targ.mean()\n",
    "multi_gene_id_mean\n"
   ]
  },
  {
   "cell_type": "code",
   "execution_count": null,
   "id": "8e3c4f76",
   "metadata": {
    "execution": {
     "iopub.execute_input": "2022-08-17T12:02:46.886133Z",
     "iopub.status.busy": "2022-08-17T12:02:46.885770Z",
     "iopub.status.idle": "2022-08-17T12:02:46.916478Z",
     "shell.execute_reply": "2022-08-17T12:02:46.915418Z",
     "shell.execute_reply.started": "2022-08-17T12:02:46.886102Z"
    },
    "papermill": {
     "duration": null,
     "end_time": null,
     "exception": null,
     "start_time": null,
     "status": "pending"
    },
    "tags": []
   },
   "outputs": [],
   "source": [
    "cite_gene_id_mean = train_cite_targ.mean()\n",
    "cite_gene_id_mean"
   ]
  },
  {
   "cell_type": "code",
   "execution_count": null,
   "id": "ffab8ecb",
   "metadata": {
    "execution": {
     "iopub.execute_input": "2022-08-17T12:02:46.918165Z",
     "iopub.status.busy": "2022-08-17T12:02:46.917739Z",
     "iopub.status.idle": "2022-08-17T12:02:46.925405Z",
     "shell.execute_reply": "2022-08-17T12:02:46.924416Z",
     "shell.execute_reply.started": "2022-08-17T12:02:46.918134Z"
    },
    "papermill": {
     "duration": null,
     "end_time": null,
     "exception": null,
     "start_time": null,
     "status": "pending"
    },
    "tags": []
   },
   "outputs": [],
   "source": [
    "cite_gene_id_mean.index"
   ]
  },
  {
   "cell_type": "code",
   "execution_count": null,
   "id": "b603cf7b",
   "metadata": {
    "execution": {
     "iopub.execute_input": "2022-08-17T12:02:46.927075Z",
     "iopub.status.busy": "2022-08-17T12:02:46.926729Z",
     "iopub.status.idle": "2022-08-17T12:02:46.937602Z",
     "shell.execute_reply": "2022-08-17T12:02:46.936403Z",
     "shell.execute_reply.started": "2022-08-17T12:02:46.927047Z"
    },
    "papermill": {
     "duration": null,
     "end_time": null,
     "exception": null,
     "start_time": null,
     "status": "pending"
    },
    "tags": []
   },
   "outputs": [],
   "source": [
    "multi_gene_id_mean.index"
   ]
  },
  {
   "cell_type": "code",
   "execution_count": null,
   "id": "c78bcd86",
   "metadata": {
    "execution": {
     "iopub.execute_input": "2022-08-17T12:02:46.939827Z",
     "iopub.status.busy": "2022-08-17T12:02:46.939335Z",
     "iopub.status.idle": "2022-08-17T12:02:46.959388Z",
     "shell.execute_reply": "2022-08-17T12:02:46.957913Z",
     "shell.execute_reply.started": "2022-08-17T12:02:46.939791Z"
    },
    "papermill": {
     "duration": null,
     "end_time": null,
     "exception": null,
     "start_time": null,
     "status": "pending"
    },
    "tags": []
   },
   "outputs": [],
   "source": [
    "gene_id_mean = list(cite_gene_id_mean.index) + list(multi_gene_id_mean.index)\n",
    "gene_id = pd.DataFrame(gene_id_mean, columns = [GENE_ID])\n",
    "gene_id.head()"
   ]
  },
  {
   "cell_type": "code",
   "execution_count": null,
   "id": "7d884f3e",
   "metadata": {
    "execution": {
     "iopub.execute_input": "2022-08-17T12:02:46.962457Z",
     "iopub.status.busy": "2022-08-17T12:02:46.961500Z",
     "iopub.status.idle": "2022-08-17T12:02:47.002658Z",
     "shell.execute_reply": "2022-08-17T12:02:47.001259Z",
     "shell.execute_reply.started": "2022-08-17T12:02:46.962407Z"
    },
    "papermill": {
     "duration": null,
     "end_time": null,
     "exception": null,
     "start_time": null,
     "status": "pending"
    },
    "tags": []
   },
   "outputs": [],
   "source": [
    "gene_id[GENE_ID_INT] = gene_id[GENE_ID].apply(lambda x : int(x.replace(\"-\", \"\").replace(\".\",\"\")[-8:], 34)).astype(int)\n",
    "gene_id.head()"
   ]
  },
  {
   "cell_type": "code",
   "execution_count": null,
   "id": "febe0f13",
   "metadata": {
    "execution": {
     "iopub.execute_input": "2022-08-17T12:02:47.004575Z",
     "iopub.status.busy": "2022-08-17T12:02:47.003984Z",
     "iopub.status.idle": "2022-08-17T12:02:47.024098Z",
     "shell.execute_reply": "2022-08-17T12:02:47.023149Z",
     "shell.execute_reply.started": "2022-08-17T12:02:47.004533Z"
    },
    "papermill": {
     "duration": null,
     "end_time": null,
     "exception": null,
     "start_time": null,
     "status": "pending"
    },
    "tags": []
   },
   "outputs": [],
   "source": [
    "data_description(gene_id)"
   ]
  },
  {
   "cell_type": "markdown",
   "id": "1ea8cec4",
   "metadata": {
    "papermill": {
     "duration": null,
     "end_time": null,
     "exception": null,
     "start_time": null,
     "status": "pending"
    },
    "tags": []
   },
   "source": [
    "# Submission"
   ]
  },
  {
   "cell_type": "code",
   "execution_count": null,
   "id": "055349a8",
   "metadata": {
    "papermill": {
     "duration": null,
     "end_time": null,
     "exception": null,
     "start_time": null,
     "status": "pending"
    },
    "tags": []
   },
   "outputs": [],
   "source": []
  },
  {
   "cell_type": "code",
   "execution_count": null,
   "id": "0cd5f61a",
   "metadata": {
    "execution": {
     "iopub.execute_input": "2022-08-17T12:02:47.025970Z",
     "iopub.status.busy": "2022-08-17T12:02:47.025182Z",
     "iopub.status.idle": "2022-08-17T12:03:04.508532Z",
     "shell.execute_reply": "2022-08-17T12:03:04.507045Z",
     "shell.execute_reply.started": "2022-08-17T12:02:47.025934Z"
    },
    "papermill": {
     "duration": null,
     "end_time": null,
     "exception": null,
     "start_time": null,
     "status": "pending"
    },
    "tags": []
   },
   "outputs": [],
   "source": [
    "submission = pd.read_csv(SUBMISSION_PATH, usecols = [ROW_ID])\n",
    "data_description(submission)"
   ]
  },
  {
   "cell_type": "code",
   "execution_count": null,
   "id": "890f342d",
   "metadata": {
    "execution": {
     "iopub.execute_input": "2022-08-17T12:03:04.511278Z",
     "iopub.status.busy": "2022-08-17T12:03:04.510716Z",
     "iopub.status.idle": "2022-08-17T12:04:56.316926Z",
     "shell.execute_reply": "2022-08-17T12:04:56.315148Z",
     "shell.execute_reply.started": "2022-08-17T12:03:04.511219Z"
    },
    "papermill": {
     "duration": null,
     "end_time": null,
     "exception": null,
     "start_time": null,
     "status": "pending"
    },
    "tags": []
   },
   "outputs": [],
   "source": [
    "evaluation = pd.read_csv(EVALUATION_IDS, usecols=[ROW_ID, GENE_ID])\n",
    "evaluation[GENE_ID_INT] = evaluation[GENE_ID].apply(lambda x: int(x.replace('-', '').replace('.', '')[-8:],34)).astype(int)\n",
    "evaluation.drop([GENE_ID], axis=1, inplace=True)\n",
    "data_description(evaluation)"
   ]
  },
  {
   "cell_type": "code",
   "execution_count": null,
   "id": "3c6764c6",
   "metadata": {
    "execution": {
     "iopub.execute_input": "2022-08-17T12:58:26.174958Z",
     "iopub.status.busy": "2022-08-17T12:58:26.174544Z",
     "iopub.status.idle": "2022-08-17T12:58:26.186810Z",
     "shell.execute_reply": "2022-08-17T12:58:26.185720Z",
     "shell.execute_reply.started": "2022-08-17T12:58:26.174928Z"
    },
    "papermill": {
     "duration": null,
     "end_time": null,
     "exception": null,
     "start_time": null,
     "status": "pending"
    },
    "tags": []
   },
   "outputs": [],
   "source": [
    "evaluation.head()"
   ]
  },
  {
   "cell_type": "code",
   "execution_count": null,
   "id": "07d6f71d",
   "metadata": {
    "execution": {
     "iopub.execute_input": "2022-08-17T12:04:56.321237Z",
     "iopub.status.busy": "2022-08-17T12:04:56.318718Z",
     "iopub.status.idle": "2022-08-17T12:05:53.604236Z",
     "shell.execute_reply": "2022-08-17T12:05:53.603410Z",
     "shell.execute_reply.started": "2022-08-17T12:04:56.321189Z"
    },
    "papermill": {
     "duration": null,
     "end_time": null,
     "exception": null,
     "start_time": null,
     "status": "pending"
    },
    "tags": []
   },
   "outputs": [],
   "source": [
    "submission = submission.merge(evaluation, how = \"left\", on = ROW_ID)\n",
    "data_description(submission)"
   ]
  },
  {
   "cell_type": "code",
   "execution_count": null,
   "id": "9d309628",
   "metadata": {
    "execution": {
     "iopub.execute_input": "2022-08-17T12:05:53.606262Z",
     "iopub.status.busy": "2022-08-17T12:05:53.605466Z",
     "iopub.status.idle": "2022-08-17T12:05:53.620949Z",
     "shell.execute_reply": "2022-08-17T12:05:53.619348Z",
     "shell.execute_reply.started": "2022-08-17T12:05:53.606228Z"
    },
    "papermill": {
     "duration": null,
     "end_time": null,
     "exception": null,
     "start_time": null,
     "status": "pending"
    },
    "tags": []
   },
   "outputs": [],
   "source": [
    "cite_gene_id_mean = transform_df(cite_gene_id_mean, TARGET, GENE_ID_INT, GENE_ID)\n",
    "cite_gene_id_mean.head()"
   ]
  },
  {
   "cell_type": "code",
   "execution_count": null,
   "id": "b59a4e5e",
   "metadata": {
    "execution": {
     "iopub.execute_input": "2022-08-17T12:05:53.622944Z",
     "iopub.status.busy": "2022-08-17T12:05:53.622585Z",
     "iopub.status.idle": "2022-08-17T12:05:53.659305Z",
     "shell.execute_reply": "2022-08-17T12:05:53.658414Z",
     "shell.execute_reply.started": "2022-08-17T12:05:53.622914Z"
    },
    "papermill": {
     "duration": null,
     "end_time": null,
     "exception": null,
     "start_time": null,
     "status": "pending"
    },
    "tags": []
   },
   "outputs": [],
   "source": [
    "multi_gene_id_mean = transform_df(multi_gene_id_mean, TARGET, GENE_ID_INT, GENE_ID)\n",
    "multi_gene_id_mean.head()"
   ]
  },
  {
   "cell_type": "code",
   "execution_count": null,
   "id": "74545021",
   "metadata": {
    "execution": {
     "iopub.execute_input": "2022-08-17T12:05:53.661142Z",
     "iopub.status.busy": "2022-08-17T12:05:53.660612Z",
     "iopub.status.idle": "2022-08-17T12:05:53.675464Z",
     "shell.execute_reply": "2022-08-17T12:05:53.674551Z",
     "shell.execute_reply.started": "2022-08-17T12:05:53.661111Z"
    },
    "papermill": {
     "duration": null,
     "end_time": null,
     "exception": null,
     "start_time": null,
     "status": "pending"
    },
    "tags": []
   },
   "outputs": [],
   "source": [
    "completed_gene_id_mean = pd.concat([cite_gene_id_mean, multi_gene_id_mean])\n",
    "data_description(completed_gene_id_mean)"
   ]
  },
  {
   "cell_type": "code",
   "execution_count": null,
   "id": "5270c66a",
   "metadata": {
    "execution": {
     "iopub.execute_input": "2022-08-17T12:05:53.677329Z",
     "iopub.status.busy": "2022-08-17T12:05:53.676775Z",
     "iopub.status.idle": "2022-08-17T12:06:17.550450Z",
     "shell.execute_reply": "2022-08-17T12:06:17.549115Z",
     "shell.execute_reply.started": "2022-08-17T12:05:53.677296Z"
    },
    "papermill": {
     "duration": null,
     "end_time": null,
     "exception": null,
     "start_time": null,
     "status": "pending"
    },
    "tags": []
   },
   "outputs": [],
   "source": [
    "submission = submission.merge(completed_gene_id_mean, how = \"left\", on = GENE_ID_INT)\n",
    "data_description(submission)"
   ]
  },
  {
   "cell_type": "code",
   "execution_count": null,
   "id": "6172fc00",
   "metadata": {
    "papermill": {
     "duration": null,
     "end_time": null,
     "exception": null,
     "start_time": null,
     "status": "pending"
    },
    "tags": []
   },
   "outputs": [],
   "source": [
    "df_sample_submission[[ROW_ID, TARGET]].to_csv('submission.csv', index=False)"
   ]
  }
 ],
 "metadata": {
  "kernelspec": {
   "display_name": "Python 3",
   "language": "python",
   "name": "python3"
  },
  "language_info": {
   "codemirror_mode": {
    "name": "ipython",
    "version": 3
   },
   "file_extension": ".py",
   "mimetype": "text/x-python",
   "name": "python",
   "nbconvert_exporter": "python",
   "pygments_lexer": "ipython3",
   "version": "3.6.4"
  },
  "papermill": {
   "default_parameters": {},
   "duration": null,
   "end_time": null,
   "environment_variables": {},
   "exception": null,
   "input_path": "__notebook__.ipynb",
   "output_path": "__notebook__.ipynb",
   "parameters": {},
   "start_time": "2022-08-17T13:00:00.780551",
   "version": "2.3.4"
  }
 },
 "nbformat": 4,
 "nbformat_minor": 5
}