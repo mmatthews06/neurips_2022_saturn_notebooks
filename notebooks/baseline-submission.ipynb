{
 "cells": [
  {
   "cell_type": "code",
   "execution_count": 1,
   "id": "0fd20436",
   "metadata": {
    "_cell_guid": "b1076dfc-b9ad-4769-8c92-a6c4dae69d19",
    "_uuid": "8f2839f25d086af736a60e9eeb907d3b93b6e0e5",
    "execution": {
     "iopub.execute_input": "2022-08-16T11:34:32.108708Z",
     "iopub.status.busy": "2022-08-16T11:34:32.108067Z",
     "iopub.status.idle": "2022-08-16T11:34:32.122288Z",
     "shell.execute_reply": "2022-08-16T11:34:32.121187Z"
    },
    "papermill": {
     "duration": 0.021858,
     "end_time": "2022-08-16T11:34:32.124940",
     "exception": false,
     "start_time": "2022-08-16T11:34:32.103082",
     "status": "completed"
    },
    "tags": []
   },
   "outputs": [],
   "source": [
    "import pandas as pd "
   ]
  },
  {
   "cell_type": "code",
   "execution_count": 2,
   "id": "37fbff3e",
   "metadata": {
    "execution": {
     "iopub.execute_input": "2022-08-16T11:34:32.130739Z",
     "iopub.status.busy": "2022-08-16T11:34:32.130359Z",
     "iopub.status.idle": "2022-08-16T11:34:48.551516Z",
     "shell.execute_reply": "2022-08-16T11:34:48.550173Z"
    },
    "papermill": {
     "duration": 16.426905,
     "end_time": "2022-08-16T11:34:48.554086",
     "exception": false,
     "start_time": "2022-08-16T11:34:32.127181",
     "status": "completed"
    },
    "tags": []
   },
   "outputs": [
    {
     "data": {
      "text/html": [
       "<div>\n",
       "<style scoped>\n",
       "    .dataframe tbody tr th:only-of-type {\n",
       "        vertical-align: middle;\n",
       "    }\n",
       "\n",
       "    .dataframe tbody tr th {\n",
       "        vertical-align: top;\n",
       "    }\n",
       "\n",
       "    .dataframe thead th {\n",
       "        text-align: right;\n",
       "    }\n",
       "</style>\n",
       "<table border=\"1\" class=\"dataframe\">\n",
       "  <thead>\n",
       "    <tr style=\"text-align: right;\">\n",
       "      <th></th>\n",
       "      <th>row_id</th>\n",
       "      <th>target</th>\n",
       "    </tr>\n",
       "  </thead>\n",
       "  <tbody>\n",
       "    <tr>\n",
       "      <th>0</th>\n",
       "      <td>0</td>\n",
       "      <td>0.0</td>\n",
       "    </tr>\n",
       "    <tr>\n",
       "      <th>1</th>\n",
       "      <td>1</td>\n",
       "      <td>0.0</td>\n",
       "    </tr>\n",
       "    <tr>\n",
       "      <th>2</th>\n",
       "      <td>2</td>\n",
       "      <td>0.0</td>\n",
       "    </tr>\n",
       "    <tr>\n",
       "      <th>3</th>\n",
       "      <td>3</td>\n",
       "      <td>0.0</td>\n",
       "    </tr>\n",
       "    <tr>\n",
       "      <th>4</th>\n",
       "      <td>4</td>\n",
       "      <td>0.0</td>\n",
       "    </tr>\n",
       "  </tbody>\n",
       "</table>\n",
       "</div>"
      ],
      "text/plain": [
       "   row_id  target\n",
       "0       0     0.0\n",
       "1       1     0.0\n",
       "2       2     0.0\n",
       "3       3     0.0\n",
       "4       4     0.0"
      ]
     },
     "execution_count": 2,
     "metadata": {},
     "output_type": "execute_result"
    }
   ],
   "source": [
    "sample_submission = pd.read_csv('../input/open-problems-multimodal/sample_submission.csv')\n",
    "sample_submission.head()"
   ]
  },
  {
   "cell_type": "code",
   "execution_count": 3,
   "id": "106e6a6c",
   "metadata": {
    "execution": {
     "iopub.execute_input": "2022-08-16T11:34:48.560184Z",
     "iopub.status.busy": "2022-08-16T11:34:48.559712Z",
     "iopub.status.idle": "2022-08-16T11:36:14.047215Z",
     "shell.execute_reply": "2022-08-16T11:36:14.045873Z"
    },
    "papermill": {
     "duration": 85.493816,
     "end_time": "2022-08-16T11:36:14.050209",
     "exception": false,
     "start_time": "2022-08-16T11:34:48.556393",
     "status": "completed"
    },
    "tags": []
   },
   "outputs": [],
   "source": [
    "sample_submission.to_csv('submission.csv', index = 0)"
   ]
  },
  {
   "cell_type": "code",
   "execution_count": null,
   "id": "4bea415c",
   "metadata": {
    "papermill": {
     "duration": 0.001869,
     "end_time": "2022-08-16T11:36:14.054537",
     "exception": false,
     "start_time": "2022-08-16T11:36:14.052668",
     "status": "completed"
    },
    "tags": []
   },
   "outputs": [],
   "source": []
  }
 ],
 "metadata": {
  "kernelspec": {
   "display_name": "Python 3",
   "language": "python",
   "name": "python3"
  },
  "language_info": {
   "codemirror_mode": {
    "name": "ipython",
    "version": 3
   },
   "file_extension": ".py",
   "mimetype": "text/x-python",
   "name": "python",
   "nbconvert_exporter": "python",
   "pygments_lexer": "ipython3",
   "version": "3.7.12"
  },
  "papermill": {
   "default_parameters": {},
   "duration": 111.879204,
   "end_time": "2022-08-16T11:36:14.678903",
   "environment_variables": {},
   "exception": null,
   "input_path": "__notebook__.ipynb",
   "output_path": "__notebook__.ipynb",
   "parameters": {},
   "start_time": "2022-08-16T11:34:22.799699",
   "version": "2.3.4"
  }
 },
 "nbformat": 4,
 "nbformat_minor": 5
}
